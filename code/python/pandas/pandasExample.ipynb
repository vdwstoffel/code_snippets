{
 "cells": [
  {
   "cell_type": "code",
   "execution_count": 6,
   "metadata": {},
   "outputs": [
    {
     "ename": "ModuleNotFoundError",
     "evalue": "No module named 'pandas'",
     "output_type": "error",
     "traceback": [
      "\u001b[0;31m---------------------------------------------------------------------------\u001b[0m",
      "\u001b[0;31mModuleNotFoundError\u001b[0m                       Traceback (most recent call last)",
      "Cell \u001b[0;32mIn[6], line 1\u001b[0m\n\u001b[0;32m----> 1\u001b[0m \u001b[39mimport\u001b[39;00m \u001b[39mpandas\u001b[39;00m \u001b[39mas\u001b[39;00m \u001b[39mpd\u001b[39;00m                                 \u001b[39m# pip install pandas\u001b[39;00m\n\u001b[1;32m      3\u001b[0m df \u001b[39m=\u001b[39m pd\u001b[39m.\u001b[39mread_csv(\u001b[39m'\u001b[39m\u001b[39msalaries_by_college_major.csv\u001b[39m\u001b[39m'\u001b[39m)   \u001b[39m# read csv file\u001b[39;00m\n\u001b[1;32m      4\u001b[0m df\u001b[39m.\u001b[39mhead()                                           \u001b[39m# print first 5 rows\u001b[39;00m\n",
      "\u001b[0;31mModuleNotFoundError\u001b[0m: No module named 'pandas'"
     ]
    }
   ],
   "source": [
    "import pandas as pd                                 # pip install pandas\n",
    "\n",
    "df = pd.read_csv('salaries_by_college_major.csv')   # read csv file\n",
    "df.head()                                           # print first 5 rows\n",
    "df.tail()                                           # print last 5 rows\n",
    "df.shape                                            # show the rows and the columns \n",
    "df.columns                                          # show the columns\n",
    "df.isna()                                           # checking for missing values\n"
   ]
  },
  {
   "cell_type": "code",
   "execution_count": null,
   "metadata": {},
   "outputs": [],
   "source": [
    "cleaned_df = df.dropna()                            # dropping rows with missing values\n",
    "cleaned_df['Starting Median Salary']                # select a specific column\n",
    "cleaned_df['Starting Median Salary'].max()          # find the maximum value\n",
    "cleaned_df['Starting Median Salary'].min()          # find the minimum value\n",
    "cleaned_df['Starting Median Salary'].mean()         # find the mean value\n",
    "cleaned_df['Starting Median Salary'].median()       # find the median value\n",
    "\n",
    "cleaned_df['Starting Median Salary'].idxmax()       # find the index of the maximum value\n",
    "cleaned_df['Undergraduate Major'].loc[43]\n",
    "cleaned_df['Starting Median Salary'].idxmin()       # find the index of the minimum value"
   ]
  },
  {
   "cell_type": "code",
   "execution_count": null,
   "metadata": {},
   "outputs": [],
   "source": [
    "spread = cleaned_df['Mid-Career 90th Percentile Salary'] - cleaned_df['Mid-Career 10th Percentile Salary']   # Calculate the difference between the two columns\n",
    "# index, name of column, value of column\n",
    "cleaned_df.insert(1, \"Spread\", spread)              # Insert the new column into the dataframe. Note that this happens inplace.\n",
    "cleaned_df.sort_values(\"Spread\", ascending=False)   #  Sort the dataframe by the new column"
   ]
  },
  {
   "cell_type": "code",
   "execution_count": null,
   "metadata": {},
   "outputs": [],
   "source": [
    "pd.options.display.float_format = '{:,.2f}'.format  #  format floats to 2 decimal places\n",
    "\n",
    "cleaned_df.groupby('Group').count()                 # count the number of rows per group\n",
    "cleaned_df.groupby('Group').sum()                   # sum the values per group\n",
    "cleaned_df.groupby('Group').mean()                  # mean the values per group"
   ]
  }
 ],
 "metadata": {
  "kernelspec": {
   "display_name": ".venv",
   "language": "python",
   "name": "python3"
  },
  "language_info": {
   "codemirror_mode": {
    "name": "ipython",
    "version": 3
   },
   "file_extension": ".py",
   "mimetype": "text/x-python",
   "name": "python",
   "nbconvert_exporter": "python",
   "pygments_lexer": "ipython3",
   "version": "3.10.6"
  },
  "orig_nbformat": 4
 },
 "nbformat": 4,
 "nbformat_minor": 2
}
