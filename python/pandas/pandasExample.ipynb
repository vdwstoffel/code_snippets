{
 "cells": [
  {
   "attachments": {},
   "cell_type": "markdown",
   "metadata": {},
   "source": [
    "Getting Started"
   ]
  },
  {
   "cell_type": "code",
   "execution_count": null,
   "metadata": {},
   "outputs": [],
   "source": [
    "import pandas as pd                   # pip install pandas\n",
    "df = pd.read_csv('QueryResults.csv')  # Read from csv, giving custom column names and setting the heading as row 0"
   ]
  },
  {
   "cell_type": "markdown",
   "metadata": {},
   "source": [
    "# Show Dataframe"
   ]
  },
  {
   "cell_type": "code",
   "execution_count": null,
   "metadata": {},
   "outputs": [],
   "source": [
    "df = pd.read_csv('QueryResults.csv')\n",
    "df.head()   # show first 5 rows\n",
    "df.tail()   # show last 5 rows\n",
    "df.shape    # show number of rows and columns\n",
    "df.columns  # show column names"
   ]
  },
  {
   "cell_type": "markdown",
   "metadata": {},
   "source": [
    "# Nan Values"
   ]
  },
  {
   "cell_type": "code",
   "execution_count": null,
   "metadata": {},
   "outputs": [],
   "source": [
    "df.isna()           # check for missing values\n",
    "df = df.dropna()    # drop rows with missing values"
   ]
  },
  {
   "cell_type": "markdown",
   "metadata": {},
   "source": [
    "# Accessing Columns"
   ]
  },
  {
   "cell_type": "code",
   "execution_count": 52,
   "metadata": {},
   "outputs": [
    {
     "data": {
      "text/plain": [
       "'delphi'"
      ]
     },
     "execution_count": 52,
     "metadata": {},
     "output_type": "execute_result"
    }
   ],
   "source": [
    "df[\"tag\"]\n",
    "df[\"posts\"].max()\n",
    "df[\"posts\"].min()\n",
    "df[\"posts\"].mean()\n",
    "df[\"posts\"].idxmax()    # Get the index of the highest value\n",
    "df[\"posts\"].idxmin()    # Get the index of the lowest value\n",
    "df.loc[17]              # See entry at index 17\n",
    "df[[\"tag\", \"posts\"]]    # filer columns\n",
    "df['tag'][13]           # Access entry at index 13 in column tag\n",
    "\n"
   ]
  },
  {
   "cell_type": "markdown",
   "metadata": {},
   "source": [
    "# Adding Columns"
   ]
  },
  {
   "cell_type": "code",
   "execution_count": null,
   "metadata": {},
   "outputs": [],
   "source": [
    "new_column = \"Programming\"\n",
    "df.insert(3, \"Type\", new_column)    # index location, column name, value"
   ]
  },
  {
   "cell_type": "markdown",
   "metadata": {},
   "source": [
    "# Grouping"
   ]
  },
  {
   "cell_type": "code",
   "execution_count": 63,
   "metadata": {},
   "outputs": [
    {
     "data": {
      "text/html": [
       "<div>\n",
       "<style scoped>\n",
       "    .dataframe tbody tr th:only-of-type {\n",
       "        vertical-align: middle;\n",
       "    }\n",
       "\n",
       "    .dataframe tbody tr th {\n",
       "        vertical-align: top;\n",
       "    }\n",
       "\n",
       "    .dataframe thead th {\n",
       "        text-align: right;\n",
       "    }\n",
       "</style>\n",
       "<table border=\"1\" class=\"dataframe\">\n",
       "  <thead>\n",
       "    <tr style=\"text-align: right;\">\n",
       "      <th></th>\n",
       "      <th>date</th>\n",
       "      <th>posts</th>\n",
       "      <th>Type</th>\n",
       "    </tr>\n",
       "    <tr>\n",
       "      <th>tag</th>\n",
       "      <th></th>\n",
       "      <th></th>\n",
       "      <th></th>\n",
       "    </tr>\n",
       "  </thead>\n",
       "  <tbody>\n",
       "    <tr>\n",
       "      <th>python</th>\n",
       "      <td>2020-07-01 00:00:00</td>\n",
       "      <td>34478</td>\n",
       "      <td>Programming</td>\n",
       "    </tr>\n",
       "    <tr>\n",
       "      <th>javascript</th>\n",
       "      <td>2020-07-01 00:00:00</td>\n",
       "      <td>25196</td>\n",
       "      <td>Programming</td>\n",
       "    </tr>\n",
       "    <tr>\n",
       "      <th>java</th>\n",
       "      <td>2020-07-01 00:00:00</td>\n",
       "      <td>22109</td>\n",
       "      <td>Programming</td>\n",
       "    </tr>\n",
       "    <tr>\n",
       "      <th>php</th>\n",
       "      <td>2020-07-01 00:00:00</td>\n",
       "      <td>18564</td>\n",
       "      <td>Programming</td>\n",
       "    </tr>\n",
       "    <tr>\n",
       "      <th>c#</th>\n",
       "      <td>2020-07-01 00:00:00</td>\n",
       "      <td>16265</td>\n",
       "      <td>Programming</td>\n",
       "    </tr>\n",
       "    <tr>\n",
       "      <th>c++</th>\n",
       "      <td>2020-07-01 00:00:00</td>\n",
       "      <td>8701</td>\n",
       "      <td>Programming</td>\n",
       "    </tr>\n",
       "    <tr>\n",
       "      <th>r</th>\n",
       "      <td>2020-07-01 00:00:00</td>\n",
       "      <td>7047</td>\n",
       "      <td>Programming</td>\n",
       "    </tr>\n",
       "    <tr>\n",
       "      <th>swift</th>\n",
       "      <td>2020-07-01 00:00:00</td>\n",
       "      <td>5160</td>\n",
       "      <td>Programming</td>\n",
       "    </tr>\n",
       "    <tr>\n",
       "      <th>c</th>\n",
       "      <td>2020-07-01 00:00:00</td>\n",
       "      <td>4586</td>\n",
       "      <td>Programming</td>\n",
       "    </tr>\n",
       "    <tr>\n",
       "      <th>ruby</th>\n",
       "      <td>2020-07-01 00:00:00</td>\n",
       "      <td>2957</td>\n",
       "      <td>Programming</td>\n",
       "    </tr>\n",
       "    <tr>\n",
       "      <th>perl</th>\n",
       "      <td>2020-07-01 00:00:00</td>\n",
       "      <td>984</td>\n",
       "      <td>Programming</td>\n",
       "    </tr>\n",
       "    <tr>\n",
       "      <th>go</th>\n",
       "      <td>2020-07-01 00:00:00</td>\n",
       "      <td>887</td>\n",
       "      <td>Programming</td>\n",
       "    </tr>\n",
       "    <tr>\n",
       "      <th>delphi</th>\n",
       "      <td>2020-07-01 00:00:00</td>\n",
       "      <td>574</td>\n",
       "      <td>Programming</td>\n",
       "    </tr>\n",
       "    <tr>\n",
       "      <th>assembly</th>\n",
       "      <td>2020-07-01 00:00:00</td>\n",
       "      <td>455</td>\n",
       "      <td>Programming</td>\n",
       "    </tr>\n",
       "  </tbody>\n",
       "</table>\n",
       "</div>"
      ],
      "text/plain": [
       "                           date  posts         Type\n",
       "tag                                                \n",
       "python      2020-07-01 00:00:00  34478  Programming\n",
       "javascript  2020-07-01 00:00:00  25196  Programming\n",
       "java        2020-07-01 00:00:00  22109  Programming\n",
       "php         2020-07-01 00:00:00  18564  Programming\n",
       "c#          2020-07-01 00:00:00  16265  Programming\n",
       "c++         2020-07-01 00:00:00   8701  Programming\n",
       "r           2020-07-01 00:00:00   7047  Programming\n",
       "swift       2020-07-01 00:00:00   5160  Programming\n",
       "c           2020-07-01 00:00:00   4586  Programming\n",
       "ruby        2020-07-01 00:00:00   2957  Programming\n",
       "perl        2020-07-01 00:00:00    984  Programming\n",
       "go          2020-07-01 00:00:00    887  Programming\n",
       "delphi      2020-07-01 00:00:00    574  Programming\n",
       "assembly    2020-07-01 00:00:00    455  Programming"
      ]
     },
     "execution_count": 63,
     "metadata": {},
     "output_type": "execute_result"
    }
   ],
   "source": [
    "df.groupby('tag').count()   # number of entries\n",
    "df.groupby('tag').max()     # most entries on a day\n",
    "df.groupby('tag').min()\n",
    "\n",
    "# Sorting values\n",
    "df.groupby(\"tag\").max().sort_values(\"posts\", ascending=False)"
   ]
  },
  {
   "cell_type": "markdown",
   "metadata": {},
   "source": [
    "# Sorting Values"
   ]
  },
  {
   "cell_type": "code",
   "execution_count": 62,
   "metadata": {},
   "outputs": [
    {
     "data": {
      "text/html": [
       "<div>\n",
       "<style scoped>\n",
       "    .dataframe tbody tr th:only-of-type {\n",
       "        vertical-align: middle;\n",
       "    }\n",
       "\n",
       "    .dataframe tbody tr th {\n",
       "        vertical-align: top;\n",
       "    }\n",
       "\n",
       "    .dataframe thead th {\n",
       "        text-align: right;\n",
       "    }\n",
       "</style>\n",
       "<table border=\"1\" class=\"dataframe\">\n",
       "  <thead>\n",
       "    <tr style=\"text-align: right;\">\n",
       "      <th></th>\n",
       "      <th>date</th>\n",
       "      <th>posts</th>\n",
       "      <th>Type</th>\n",
       "    </tr>\n",
       "    <tr>\n",
       "      <th>tag</th>\n",
       "      <th></th>\n",
       "      <th></th>\n",
       "      <th></th>\n",
       "    </tr>\n",
       "  </thead>\n",
       "  <tbody>\n",
       "    <tr>\n",
       "      <th>python</th>\n",
       "      <td>2020-07-01 00:00:00</td>\n",
       "      <td>34478</td>\n",
       "      <td>Programming</td>\n",
       "    </tr>\n",
       "    <tr>\n",
       "      <th>javascript</th>\n",
       "      <td>2020-07-01 00:00:00</td>\n",
       "      <td>25196</td>\n",
       "      <td>Programming</td>\n",
       "    </tr>\n",
       "    <tr>\n",
       "      <th>java</th>\n",
       "      <td>2020-07-01 00:00:00</td>\n",
       "      <td>22109</td>\n",
       "      <td>Programming</td>\n",
       "    </tr>\n",
       "    <tr>\n",
       "      <th>php</th>\n",
       "      <td>2020-07-01 00:00:00</td>\n",
       "      <td>18564</td>\n",
       "      <td>Programming</td>\n",
       "    </tr>\n",
       "    <tr>\n",
       "      <th>c#</th>\n",
       "      <td>2020-07-01 00:00:00</td>\n",
       "      <td>16265</td>\n",
       "      <td>Programming</td>\n",
       "    </tr>\n",
       "    <tr>\n",
       "      <th>c++</th>\n",
       "      <td>2020-07-01 00:00:00</td>\n",
       "      <td>8701</td>\n",
       "      <td>Programming</td>\n",
       "    </tr>\n",
       "    <tr>\n",
       "      <th>r</th>\n",
       "      <td>2020-07-01 00:00:00</td>\n",
       "      <td>7047</td>\n",
       "      <td>Programming</td>\n",
       "    </tr>\n",
       "    <tr>\n",
       "      <th>swift</th>\n",
       "      <td>2020-07-01 00:00:00</td>\n",
       "      <td>5160</td>\n",
       "      <td>Programming</td>\n",
       "    </tr>\n",
       "    <tr>\n",
       "      <th>c</th>\n",
       "      <td>2020-07-01 00:00:00</td>\n",
       "      <td>4586</td>\n",
       "      <td>Programming</td>\n",
       "    </tr>\n",
       "    <tr>\n",
       "      <th>ruby</th>\n",
       "      <td>2020-07-01 00:00:00</td>\n",
       "      <td>2957</td>\n",
       "      <td>Programming</td>\n",
       "    </tr>\n",
       "    <tr>\n",
       "      <th>perl</th>\n",
       "      <td>2020-07-01 00:00:00</td>\n",
       "      <td>984</td>\n",
       "      <td>Programming</td>\n",
       "    </tr>\n",
       "    <tr>\n",
       "      <th>go</th>\n",
       "      <td>2020-07-01 00:00:00</td>\n",
       "      <td>887</td>\n",
       "      <td>Programming</td>\n",
       "    </tr>\n",
       "    <tr>\n",
       "      <th>delphi</th>\n",
       "      <td>2020-07-01 00:00:00</td>\n",
       "      <td>574</td>\n",
       "      <td>Programming</td>\n",
       "    </tr>\n",
       "    <tr>\n",
       "      <th>assembly</th>\n",
       "      <td>2020-07-01 00:00:00</td>\n",
       "      <td>455</td>\n",
       "      <td>Programming</td>\n",
       "    </tr>\n",
       "  </tbody>\n",
       "</table>\n",
       "</div>"
      ],
      "text/plain": [
       "                           date  posts         Type\n",
       "tag                                                \n",
       "python      2020-07-01 00:00:00  34478  Programming\n",
       "javascript  2020-07-01 00:00:00  25196  Programming\n",
       "java        2020-07-01 00:00:00  22109  Programming\n",
       "php         2020-07-01 00:00:00  18564  Programming\n",
       "c#          2020-07-01 00:00:00  16265  Programming\n",
       "c++         2020-07-01 00:00:00   8701  Programming\n",
       "r           2020-07-01 00:00:00   7047  Programming\n",
       "swift       2020-07-01 00:00:00   5160  Programming\n",
       "c           2020-07-01 00:00:00   4586  Programming\n",
       "ruby        2020-07-01 00:00:00   2957  Programming\n",
       "perl        2020-07-01 00:00:00    984  Programming\n",
       "go          2020-07-01 00:00:00    887  Programming\n",
       "delphi      2020-07-01 00:00:00    574  Programming\n",
       "assembly    2020-07-01 00:00:00    455  Programming"
      ]
     },
     "execution_count": 62,
     "metadata": {},
     "output_type": "execute_result"
    }
   ],
   "source": [
    "df.sort_values(\"posts\", ascending=False)"
   ]
  }
 ],
 "metadata": {
  "kernelspec": {
   "display_name": "Python 3",
   "language": "python",
   "name": "python3"
  },
  "language_info": {
   "codemirror_mode": {
    "name": "ipython",
    "version": 3
   },
   "file_extension": ".py",
   "mimetype": "text/x-python",
   "name": "python",
   "nbconvert_exporter": "python",
   "pygments_lexer": "ipython3",
   "version": "3.11.5"
  },
  "orig_nbformat": 4
 },
 "nbformat": 4,
 "nbformat_minor": 2
}
