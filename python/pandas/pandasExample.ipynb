{
 "cells": [
  {
   "attachments": {},
   "cell_type": "markdown",
   "metadata": {},
   "source": [
    "Basics"
   ]
  },
  {
   "cell_type": "code",
   "execution_count": null,
   "metadata": {},
   "outputs": [],
   "source": [
    "import pandas as pd                                                             # pip install pandas\n",
    "df = pd.read_csv('QueryResults.csv', names=['DATE', \"TAG\", \"POSTS\"], header=0)  # Read from csv, giving custom column names and setting the heading as row 0\n",
    "df.head()"
   ]
  },
  {
   "attachments": {},
   "cell_type": "markdown",
   "metadata": {},
   "source": [
    "Working with Column"
   ]
  },
  {
   "cell_type": "code",
   "execution_count": 55,
   "metadata": {},
   "outputs": [],
   "source": [
    "# Check for any NaN values in the dataset\n",
    "df.isna()\n",
    "df.isna().values.any()\n",
    "\n",
    "df[\"POSTS\"].max()                   # maximum value in the column\n",
    "df[\"POSTS\"].min()                   # minimum value in the column\n",
    "df[\"POSTS\"].mean()                  # mean value in the column\n",
    "\n",
    "df.DATE = pd.to_datetime(df.DATE)   # convert the column to datetime"
   ]
  },
  {
   "attachments": {},
   "cell_type": "markdown",
   "metadata": {},
   "source": [
    "Sorting Values / Grouping Values"
   ]
  },
  {
   "cell_type": "code",
   "execution_count": null,
   "metadata": {},
   "outputs": [],
   "source": [
    "df.sort_values(\"POSTS\", ascending=False)\n",
    "\n",
    "df.groupby(\"TAG\").count()           #  count the number of posts per tag\n",
    "df.groupby(\"TAG\").sum()             #  sum the number of posts per tag"
   ]
  },
  {
   "attachments": {},
   "cell_type": "markdown",
   "metadata": {},
   "source": [
    "Pivot"
   ]
  },
  {
   "cell_type": "code",
   "execution_count": null,
   "metadata": {},
   "outputs": [],
   "source": [
    "reshaped_df = df.pivot(index='DATE', columns='TAG', values='POSTS')\n",
    "reshaped_df.fillna(0, inplace=True)                                 # replacing missing values with 0\n",
    "reshaped_df.head()"
   ]
  }
 ],
 "metadata": {
  "kernelspec": {
   "display_name": "Python 3",
   "language": "python",
   "name": "python3"
  },
  "language_info": {
   "codemirror_mode": {
    "name": "ipython",
    "version": 3
   },
   "file_extension": ".py",
   "mimetype": "text/x-python",
   "name": "python",
   "nbconvert_exporter": "python",
   "pygments_lexer": "ipython3",
   "version": "3.10.6"
  },
  "orig_nbformat": 4
 },
 "nbformat": 4,
 "nbformat_minor": 2
}
